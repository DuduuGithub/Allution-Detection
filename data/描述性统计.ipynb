{
 "cells": [
  {
   "cell_type": "code",
   "execution_count": null,
   "metadata": {},
   "outputs": [],
   "source": [
    "import pandas as pd\n",
    "import matplotlib.pyplot as plt\n",
    "import seaborn as sns\n",
    "plt.rcParams['font.sans-serif'] = ['SimHei']  # 设置中文字体\n",
    "plt.rcParams['axes.unicode_minus'] = False  # 解决负号显示问题\n",
    "\n",
    "# 读取CSV文件\n",
    "df = pd.read_csv('data/爬取的典故数据.csv', sep='\\t')\n",
    "\n",
    "# 统计每个典故的数量\n",
    "allusion_counts = df['allusion'].value_counts()\n",
    "\n",
    "# 创建图形\n",
    "plt.figure(figsize=(15, 8))\n",
    "sns.barplot(x=allusion_counts.values, y=allusion_counts.index)\n",
    "\n",
    "# 设置标题和标签\n",
    "plt.title('典故使用频率统计', fontsize=14)\n",
    "plt.xlabel('出现次数', fontsize=12)\n",
    "plt.ylabel('典故名称', fontsize=12)\n",
    "\n",
    "# 在每个柱子上添加数值标签\n",
    "for i, v in enumerate(allusion_counts.values):\n",
    "    plt.text(v, i, f' {v}', va='center')\n",
    "\n",
    "# 调整布局\n",
    "plt.tight_layout()\n",
    "\n",
    "# 保存图片\n",
    "plt.savefig('典故统计.png', dpi=300, bbox_inches='tight')\n",
    "\n",
    "# 显示图形\n",
    "plt.show()\n",
    "\n",
    "# 打印具体数据\n",
    "print(\"\\n典故使用频率统计：\")\n",
    "for allusion, count in allusion_counts.items():\n",
    "    print(f\"{allusion}: {count}条\")"
   ]
  }
 ],
 "metadata": {
  "language_info": {
   "name": "python"
  }
 },
 "nbformat": 4,
 "nbformat_minor": 2
}
